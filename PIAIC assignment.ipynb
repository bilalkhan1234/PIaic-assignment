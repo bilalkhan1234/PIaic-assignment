{
 "cells": [
  {
   "cell_type": "markdown",
   "metadata": {},
   "source": [
    "##### 1. Which of the following terms are related to dictionaries?\n",
    "\n",
    "a. value\n",
    "d. key"
   ]
  },
  {
   "cell_type": "markdown",
   "metadata": {},
   "source": [
    "###### 2. Just like lists, + operator is used to extend dictionaries?\n",
    "\n",
    "b.false"
   ]
  },
  {
   "cell_type": "markdown",
   "metadata": {},
   "source": [
    "###### 3. To access items from a dictionary, we specify the index of that item within [] like myDict[0]?\n",
    "\n",
    "a.True"
   ]
  },
  {
   "cell_type": "markdown",
   "metadata": {},
   "source": [
    "###### 4. When we use [] to access the value from a dictionary which does not exist in that dictionary....?\n",
    "\n",
    "d. value of the key, if it exists in the dictionary"
   ]
  },
  {
   "cell_type": "markdown",
   "metadata": {},
   "source": [
    "###### 6. What does return popitem method return?\n",
    "\n",
    "\n",
    "b. tupple containing the pair of last item of the dictionary"
   ]
  },
  {
   "cell_type": "markdown",
   "metadata": {},
   "source": [
    "##### 7. Which of the following 2 methods can be used to iterate through the items of a dictionary?\n",
    "\n",
    "b. values()\n",
    "d. keys()"
   ]
  },
  {
   "cell_type": "markdown",
   "metadata": {},
   "source": [
    "##### 8. Which one of the following is used to enclose a dictionary?\n",
    "\n",
    "b. {} curly brackets"
   ]
  },
  {
   "cell_type": "markdown",
   "metadata": {},
   "source": [
    "##### 9. Write Python Program add key-value pair in dictionary and check if a Given Key or Value or Both Exists in a Dictionary or Not.\n",
    "\n",
    "key=int(input(\"Enter the key (int) to be added:\"))\n",
    "value=int(input(\"Enter the value for the key to be added:\"))\n",
    "d={}\n",
    "d.update({key:value})\n",
    "print(\"Updated dictionary is:\")\n",
    "print(d)\n",
    "\n",
    "check_key=int(input(\"Enter the key (int) to check:\"))\n",
    "if(check_key==key):\n",
    "    print(\"key alrreaddy exist\")\n",
    "else:\n",
    "    print(\"not exist\")\n",
    "\n",
    "check_val=int(input(\"Enter the value(int) to check:\"))\n",
    "if(check_val==value):\n",
    "    print(\"value alrreaddy exist\")\n",
    "else:\n",
    "    print(\"not exist\")\n",
    "\n",
    "#for both key and value\n",
    "if(check_val==value and check_key==key):\n",
    "    print(\"both are alrreaddy exist\")\n",
    "else:\n",
    "    print(\" both not exist\")\n",
    "\n"
   ]
  },
  {
   "cell_type": "markdown",
   "metadata": {},
   "source": [
    "##### 10. Write a Python Program to Count the Frequency of Words Appearing in a String Using a Dictionary and print only the words having Even (divisible by 2) frequency.\n",
    "\n",
    "\n",
    "def word_count(str):\n",
    "    counts = dict()\n",
    "    words = str.split()\n",
    "\n",
    "    for word in words:\n",
    "        if word in counts:\n",
    "            counts[word] +=1\n",
    "            if (counts[word]% 2 == 0):\n",
    "                print(\"frequecy is even\")\n",
    "            else:\n",
    "                (\"frquency is odd\")\n",
    "        else:\n",
    "            counts[word] = 1\n",
    "\n",
    "    return counts\n",
    "\n",
    "print( word_count('hello world'))\n"
   ]
  },
  {
   "cell_type": "markdown",
   "metadata": {},
   "source": [
    "###### 11. X = [\"Feb\", Apr, Mar, May, Jun, Jul, Aug, Jan]. What will be output of following?\n",
    "\n",
    "X[0:3]=['Feb', 'Apr', 'Mar']\n",
    "X[2:8]=['Mar', 'May', 'Jun', 'Jul', 'Aug', 'Jan']\n",
    "X[4:9]=['Jun', 'Jul', 'Aug', 'Jan']\n",
    "X[1:7:2]=['Apr', 'May', 'Jul']\n",
    "X[-1:-7]=[]\n",
    "X[-7:7]=['Apr', 'Mar', 'May', 'Jun', 'Jul', 'Aug']\n",
    "X[-1:-8:-2]=['Jan', 'Jul', 'May', 'Apr']\n",
    "X[:4]=['Feb', 'Apr', 'Mar', 'May']"
   ]
  },
  {
   "cell_type": "markdown",
   "metadata": {},
   "source": [
    "###### 12. Remove the correct number from the list X X = [ 9,2,8,4,5]\n",
    "\n",
    "3) .remove(9)"
   ]
  },
  {
   "cell_type": "markdown",
   "metadata": {},
   "source": [
    "##### 13. p = 3     q = 'hello! '     print( q __?__ p) hello! hello! hello!\n",
    "\n",
    "1) *"
   ]
  },
  {
   "cell_type": "markdown",
   "metadata": {},
   "source": [
    "###### 14. y = \"this is a random sentence\"\n",
    "\n",
    "1) .upper()"
   ]
  },
  {
   "cell_type": "markdown",
   "metadata": {},
   "source": [
    "##### 15. p = True q = ‘True’  r=2   s = 2.0\n",
    "\n",
    "p=<class 'bool'>\n",
    "q=<class 'str'>\n",
    "r=<class 'int'>\n",
    "s=<class 'float'>\n"
   ]
  },
  {
   "cell_type": "markdown",
   "metadata": {},
   "source": [
    "###### 16. What are the optional arguments to the function? function_1(R1, q, p=None, R2= None)\n",
    "\n",
    "2) p and R2"
   ]
  },
  {
   "cell_type": "markdown",
   "metadata": {},
   "source": [
    "###### 17. Which command invokes method X() of the object p?\n",
    "\n",
    "3) X().p"
   ]
  },
  {
   "cell_type": "markdown",
   "metadata": {},
   "source": [
    "###### 18. X=4 , Y= 2 print(X % Y) print(X / Y) print(X // Y) print(Y % X)\n",
    "\n",
    "X%Y=0(x mod y) \n",
    "X/Y=2.0(division)\n",
    "X//Y=2()\n",
    "Y%X=2(y mod x)\n",
    "\n"
   ]
  },
  {
   "cell_type": "markdown",
   "metadata": {},
   "source": [
    "###### 19. x = [[4, 1, 1], [5, 9, 0]] \n",
    "for i in __?__:\n",
    "for j in __?__: ?\n",
    "Output: 4 1 1 5 9 0\n",
    "\n",
    "\n",
    "    ANSWAER:\n",
    "x = [[4,1,1], [5,9,0]]\n",
    "for i in range(len(x)):\n",
    "    for j in range(len(x[i])):\n",
    "        print(x[i][j])\n",
    "    print()\n"
   ]
  },
  {
   "cell_type": "markdown",
   "metadata": {},
   "source": [
    "##### x = [[4, 1, 1], [5, 9, 0]]\n",
    "for i in __?__:\n",
    "for j in __?__: ?\n",
    "Output: 4 5 \n",
    "        1 9 \n",
    "        1 0\n",
    "\n",
    "\n",
    "    ANSWER:\n",
    "a = [[4,1,1],[5,9,0]]\n",
    "\n",
    "for i in range(len(a)):\n",
    "    for j in range(len(a[i])):\n",
    "        \n",
    "    print()\n",
    "for row in a:\n",
    "    print(row)\n",
    "rez = [[a[j][i] for j in range(len(a))] for i in range(len(a[0]))]\n",
    "print(\"\\n\")\n",
    "for row in rez:\n",
    "    print(row)\n",
    "\n"
   ]
  },
  {
   "cell_type": "markdown",
   "metadata": {},
   "source": [
    "##### x = [[4, 1, 1], [5, 9, 0]] for i in __?__:\n",
    "for j in __?__: ?\n",
    "Output: 411590\n",
    "\n",
    "a = [[4,1,1],[5,9,0]]\n",
    "\n",
    "    ANWER:\n",
    "\n",
    "for i in range(len(a)):\n",
    "    for j in range(len(a[0])):\n",
    "        print(a[i][j], end=\" \")\n",
    "   \n",
    "\n"
   ]
  },
  {
   "cell_type": "markdown",
   "metadata": {},
   "source": [
    "##### x = [[4, 1, 1], [5, 9, 0]] for i in __?__:\n",
    "for j in __?__: ?\n",
    "Output: 4 1 1\n",
    "        5 9 0\n",
    "        \n",
    "    ANSWAER:\n",
    "    \n",
    "a = [[4,1,1],[5,9,0]]\n",
    "\n",
    "for i in range(len(a)):\n",
    "    for j in range(len(a[i])):\n",
    "        print(a[i][j], end=\" \")\n",
    "    print()\n",
    "       "
   ]
  },
  {
   "cell_type": "code",
   "execution_count": null,
   "metadata": {},
   "outputs": [],
   "source": []
  },
  {
   "cell_type": "markdown",
   "metadata": {},
   "source": [
    "###### 21. Which of these about a dictionary is false?\n",
    "\n",
    "d) Dictionaries are mutable"
   ]
  },
  {
   "cell_type": "markdown",
   "metadata": {},
   "source": [
    "##### 22. What is the output of the following:\n",
    "D = dict()\n",
    "for i in range (3):\n",
    "for j in range(2): D[i] = j\n",
    "    \n",
    "    a. {0: 1, 1: 1, 2: 1}//not macth to any option"
   ]
  },
  {
   "cell_type": "markdown",
   "metadata": {},
   "source": [
    "##### 24. What will be output?\n",
    "def avg ( x , y , z = 50 ): adding = x + y + z avg_value = adding / 3 return avg_value\n",
    "y = avg ( x = 5 , y = 9 , z = 20 )\n",
    "print(y)\n",
    "\n",
    "ANSWER:\n",
    "    11.333333333333334"
   ]
  },
  {
   "cell_type": "markdown",
   "metadata": {},
   "source": [
    "##### 28. What will be the output of the following Python expression if X=123 print(“%06d”%X)\n",
    "\n",
    "b) 000123"
   ]
  },
  {
   "cell_type": "markdown",
   "metadata": {},
   "source": [
    "###### 29. What will be the output of the following Python expression if x=22.19? print(\"%5.2f\"%x)\n",
    "c) 22.19"
   ]
  },
  {
   "cell_type": "markdown",
   "metadata": {},
   "source": [
    "##### 30. What will be the output of the following Python code?\n",
    "\n",
    "d) ‘1.234560, 1.234560, 01.23’"
   ]
  },
  {
   "cell_type": "markdown",
   "metadata": {},
   "source": [
    "##### 31. Write down the output of each line after each iterations. Do multiple experiments to change values\n",
    "i=1\n",
    "while False: #(when condition become false)\n",
    "if i%2 == 0: #(i mod2 =0, means when number is even )\n",
    "     break      #(break the loop)\n",
    "     print(i)   #print vlaue of i\n",
    "     i += 2     #increment 2 in i"
   ]
  },
  {
   "cell_type": "markdown",
   "metadata": {},
   "source": [
    "###### 32. Write down the output of each line after each iterations. Do multiple experiments to change values x = \"abcdef\"\n",
    "i = \"a\"\n",
    "while i in x:\n",
    "x = x[:-1]\n",
    "print(i, end = \" \")\n",
    "\n",
    "OUTPUT: a a a a a a "
   ]
  },
  {
   "cell_type": "markdown",
   "metadata": {},
   "source": [
    "##### 33. Write down the output of each line after each iterations. Do multiple experiments to change values for i in ''.join(reversed(list('abcd'))):\n",
    "print (i)\n",
    "\n",
    "    OUTPUT: d   c   b   a"
   ]
  },
  {
   "cell_type": "markdown",
   "metadata": {},
   "source": [
    "##### 34. Flow of the program. Write the output of each line after every iteration of ‘i’ \n",
    "for i in range(10): # run the loop from 0 to 9\n",
    "    if i == 5:      #(when i = 5)\n",
    "    break           #(break the loop)\n",
    "    else:\n",
    "    print(i)        #(print the value of i)\n",
    "else: \n",
    "    print(\"Here\") #(otherwise print \"here\")\n",
    "    \n",
    "OUTPUT: 0 1   2  3   4"
   ]
  },
  {
   "cell_type": "markdown",
   "metadata": {},
   "source": [
    "##### 35. What is the output? And understand the functionality of lambda function \n",
    "y=6\n",
    "z = lambda x: x * y\n",
    "print z(8)\n",
    "\n",
    "    ANSWER:\n",
    "    z=48\n",
    "    A lambda function that multiply 6 to the number passed in as an argument, and print the result:"
   ]
  },
  {
   "cell_type": "markdown",
   "metadata": {},
   "source": [
    "##### 36. Write output and give proper logic of whatever the output comes.\n",
    "i=0\n",
    "def change(i):\n",
    "i=i+1\n",
    "return i change(1)\n",
    "print(i)\n",
    "\n",
    "OUTPUT=0\n",
    "logic:the value i is zero because we print the value of i out the \n",
    "    the change function.. as i is declare zero out the function"
   ]
  },
  {
   "cell_type": "markdown",
   "metadata": {},
   "source": [
    "##### 40. What will be output? Define this output clearly \n",
    "def change(one, *two):  single asterik is used for merging tuples\n",
    "print(type(two))  #find the type of b\n",
    "print(two)\n",
    "change(1,2,3,4)\n",
    "\n",
    "    OUTPUT:\n",
    "     <class 'tuple'>\n",
    "    (2, 3, 4)"
   ]
  },
  {
   "cell_type": "markdown",
   "metadata": {},
   "source": [
    "###### 41. What will be output? Define this output clearly\n",
    "def find(a, **b):  # double asterik is used for merging dictionaries\n",
    "print(type(b)) #find the type of b..\n",
    "find('letters',A='1',B='2')\n",
    "\n",
    "    OUTPUT:\n",
    "    \n",
    "    <class 'dict'>"
   ]
  },
  {
   "cell_type": "markdown",
   "metadata": {},
   "source": [
    "###### 42. Write output and define each line’s output for each iteration of ‘i’ \n",
    "\n",
    "def foo(i, x=[]):  #define a function foo with perameter\n",
    "\n",
    "x.append(i)       # append the value of i to x\n",
    "\n",
    "return x           #return the value of x\n",
    "\n",
    "for i in range(3):   itrate the function \n",
    "\n",
    "print(foo(i))        on each itration the value of i is stored in empty list x=[]\n",
    "\n",
    "    OUTPUT:\n",
    "[0]\n",
    "[0, 1]\n",
    "[0, 1, 2]"
   ]
  },
  {
   "cell_type": "markdown",
   "metadata": {},
   "source": [
    "###### 43. Evaluate the following Python arithmetic expression: and write which segment will execute first? (Brackets, Exponents, Multiplication, Addition / Subtraction, Left to right rule)\n",
    "\n",
    "    \n",
    "(3*(1+2)**2 -(2**2)*3) =15\n",
    "step1: (1+2) and (2**2)\n",
    "step2:(1+2)pow2\n",
    "step3:(3*step2)\n",
    "step3.1:(2**2)*3\n",
    "step4:(step3 - (2**2)*3)\n"
   ]
  },
  {
   "cell_type": "markdown",
   "metadata": {},
   "source": [
    "###### 44.You are creating a function that manipulates a number. The function has the following requirements:\n",
    " A float is passed into the function\n",
    " The function must take the absolute value of the float\n",
    " Any decimal points after the integer must be removed\n",
    "\n",
    "A. math.fmod(x)\n",
    "C. math.floor(x)"
   ]
  },
  {
   "cell_type": "markdown",
   "metadata": {},
   "source": [
    "##### 45. You are writing code that generates a random integer with a minimum value of 5 and a maximum value of 11.\n",
    "Which two functions should you use? Each correct answer presents a complete solution. (Choose two.)\n",
    "\n",
    "A. random.randint(5, 12)\n",
    "\n",
    "C. random.randrange(5, 12, 1) \n"
   ]
  },
  {
   "cell_type": "markdown",
   "metadata": {},
   "source": [
    "###### 46. Write a program that receives marks from user and check the grade.\n",
    "Marks greater than equal to 90 then A grade Marks between 80 to 90, B grade\n",
    "Marks between 70 to 80, C grade\n",
    "Marks between 60 to 70, D grade\n",
    "Marks less than equal to 60 then E grade\n",
    "\n",
    "\n",
    "c='y'\n",
    "while(c=='y'):\n",
    "    x=int(input(\"enter your marks\"))\n",
    "    if (x>=90):\n",
    "        print (\"A Grade\")\n",
    "    elif(x>=80 and x< 90):\n",
    "     print(\"B grade\")\n",
    "    elif (x>=70 and x<80):\n",
    "      print (\"C Grade\")\n",
    "    elif(x>=60 and x<70):\n",
    "     print(\"D grade\")\n",
    "    elif(x<=60):\n",
    "        print('E')\n",
    "    c=input(\"press y if you want to continue \")\n",
    "    if(c=='y'):\n",
    "        continue"
   ]
  }
 ],
 "metadata": {
  "kernelspec": {
   "display_name": "Python 2",
   "language": "python",
   "name": "python2"
  },
  "language_info": {
   "codemirror_mode": {
    "name": "ipython",
    "version": 2
   },
   "file_extension": ".py",
   "mimetype": "text/x-python",
   "name": "python",
   "nbconvert_exporter": "python",
   "pygments_lexer": "ipython2",
   "version": "2.7.16"
  }
 },
 "nbformat": 4,
 "nbformat_minor": 2
}
